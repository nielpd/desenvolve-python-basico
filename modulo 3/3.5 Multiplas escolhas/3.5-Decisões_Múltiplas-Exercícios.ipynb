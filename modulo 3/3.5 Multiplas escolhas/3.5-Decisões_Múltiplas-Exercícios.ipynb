{
 "cells": [
  {
   "cell_type": "markdown",
   "id": "559687a1",
   "metadata": {},
   "source": [
    "# Módulo 3 - Condicionais\n",
    "\n",
    "## 3.5 - Decisões Múltiplas"
   ]
  },
  {
   "cell_type": "markdown",
   "id": "42f823b3",
   "metadata": {},
   "source": [
    "### Q1.\n",
    "\n",
    "Vamos fazer uma calculadora! Escreva um programa que solicita 3 entradas: o primeiro operando (float), o operador (caracter) e o segundo operando (float). Seu programa deve imprimir o resultado da operação solicitada, entre soma (+), subtração (-), divisão (/), multiplicação (\\*) ou potência (\\*\\*). Seu programa também deve imprimir uma mensagem de erro se a operação solicitada não estiver dentre as opções disponíveis.\n",
    "\n",
    "Seguem alguns exemplos de interação com seu código no terminal. \n",
    "\n",
    "\n",
    "```\n",
    "Digite o primeiro operando: 5.2\n",
    "Digite o operador (+, -, /, *, **): *\n",
    "Digite o segundo operando` 3\n",
    "Resultado: 5.2 * 3.0 = 15.6\n",
    "```\n",
    "\n",
    "```\n",
    "Digite o primeiro operando: 8\n",
    "Digite o operador (+, -, /, *, **): **\n",
    "Digite o segundo operando: 2\n",
    "Resultado: 8.0 * 2.0 = 64.0\n",
    "```\n",
    "\n",
    "```\n",
    "Digite o primeiro operando: 7\n",
    "Digite o operador (+, -, /, *, **): %\n",
    "Digite o segundo operando: 3.4\n",
    "Erro! Operação inválida. \n",
    "```\n",
    "\n",
    "```\n",
    "Digite o primeiro operando: 10\n",
    "Digite o operador (+, -, /, *, **): /\n",
    "Digite o segundo operando: 2.5\n",
    "Resultado: 10.0 / 2.5 = 4.0\n",
    "```\n",
    "\n"
   ]
  },
  {
   "cell_type": "code",
   "execution_count": 5,
   "id": "c5b8cd4d",
   "metadata": {},
   "outputs": [
    {
     "name": "stdout",
     "output_type": "stream",
     "text": [
      "5.0\n"
     ]
    }
   ],
   "source": [
    "## Escreva e execute seu código aqui\n",
    "def Calculadora(num1, num2, operacao):\n",
    "  switcher = {\n",
    "    \"1\" or \"+\": num1 + num2,\n",
    "    \"2\" or \"-\": num1 - num2,\n",
    "    \"3\" or \"*\": num1 * num2,\n",
    "    \"4\" or \"/\": num1 / num2 if num2 != 0 else \"Erro, Divisão por 0\"\n",
    "  }\n",
    "  return switcher.get(operacao, \"Operação inválida\")\n",
    "\n",
    "operacao = input(\"Selecione a operação: (1 ou +) Adição, (2 ou -) Subtração, (3 ou *) Multiplicação, (4 ou /) Divisão: \")\n",
    "num1 = float(input(\"Digite um numero: \"))\n",
    "num2 = float(input(\"Digite um numero novamente: \"))\n",
    "print(Calculadora(num1, num2, operacao))"
   ]
  },
  {
   "cell_type": "markdown",
   "id": "d135df39",
   "metadata": {},
   "source": [
    "### Q2.\n",
    "\n",
    "Escreva um programa que leia os comprimentos dos 3 lados de um triângulo e diga se o triângulo é equilátero, isóceles ou escaleno. Regras:\n",
    "- Isóceles: Quaisquer dois lados com o mesmo comprimento\n",
    "- Equilátero: Os três lados tem o mesmo comprimento\n",
    "- Escaleno: Três lados de comprimento diferente \n",
    "\n",
    "Note que a ordem das condições importa! Seguem alguns exemplos de interação com seu código no terminal. \n",
    "\n",
    "```\n",
    "Digite o comprimento do lado 1: 4\n",
    "Digite o comprimento do lado 2: 4\n",
    "Digite o comprimento do lado 3: 6\n",
    "Triângulo: Isóceles\n",
    "```\n",
    "\n",
    "```\n",
    "Digite o comprimento do lado 1: 5\n",
    "Digite o comprimento do lado 2: 5\n",
    "Digite o comprimento do lado 3: 5\n",
    "Triângulo: Equilátero\n",
    "```\n",
    "\n",
    "```\n",
    "Digite o comprimento do lado 1: 7\n",
    "Digite o comprimento do lado 2: 4\n",
    "Digite o comprimento do lado 3: 9\n",
    "Triângulo: Escaleno\n",
    "```\n",
    "\n"
   ]
  },
  {
   "cell_type": "code",
   "execution_count": 14,
   "id": "cfcf9a80",
   "metadata": {},
   "outputs": [
    {
     "name": "stdout",
     "output_type": "stream",
     "text": [
      "Triângulo Escaleno\n"
     ]
    }
   ],
   "source": [
    "## Escreva e execute seu código aqui\n",
    "def CalcularTriangulo(Lado1, Lado2, Lado3):\n",
    "  if Lado1 == Lado2 == Lado3:\n",
    "    return \"Triângulo Equilátero\"\n",
    "  if Lado1 == Lado2 or Lado1 == Lado3 or Lado2 == Lado3:\n",
    "    return \"Triângulo Isóceles\"\n",
    "  else:\n",
    "    return \"Triângulo Escaleno\"\n",
    "\n",
    "Lado1 = int(input(\"Digite o comprimento do Primeiro Lado: \"))\n",
    "Lado2 = int(input(\"Digite o comprimento do Segundo Lado: \"))\n",
    "Lado3 = int(input(\"Digite o comprimento do Terceiro Lado: \"))\n",
    "\n",
    "result = CalcularTriangulo(Lado1, Lado2, Lado3)\n",
    "print(result)\n"
   ]
  },
  {
   "cell_type": "markdown",
   "id": "ed3405fb",
   "metadata": {},
   "source": [
    "### Q3.\n",
    "\n",
    "Você está desenvolvendo um sistema de avaliação de desempenho para um jogo. Escreva um programa em Python que avalia a pontuação do jogador em uma missão e atribui uma classificação com base nas seguintes condições:\n",
    "\n",
    "- Se a pontuação for menor que 70, atribua a classificação \"Insatisfatório\".\n",
    "- Se a pontuação for maior ou igual a 70, atribua a classificação \"Regular\".\n",
    "- Se a pontuação for maior ou igual a 80, atribua a classificação \"Bom\".\n",
    "- Se a pontuação for maior ou igual a 90, atribua a classificação \"Excelente\".\n",
    "\n",
    "Escreva um programa que solicita ao usuário a pontuação e imprime a classificação correspondente."
   ]
  },
  {
   "cell_type": "code",
   "execution_count": 17,
   "id": "a7a842ae",
   "metadata": {},
   "outputs": [
    {
     "name": "stdout",
     "output_type": "stream",
     "text": [
      "O resultado da classificação do jogador é Excelente\n"
     ]
    }
   ],
   "source": [
    "## Escreva e execute seu código aqui\n",
    "NotaDesempenho = int(input(\"Avalie seu desempenho: \"))\n",
    "if NotaDesempenho < 70:\n",
    "  result = \"Insatisfatório\"\n",
    "if NotaDesempenho >= 70:\n",
    "  result = \"Regular\"\n",
    "if NotaDesempenho >= 80:\n",
    "  result = \"Bom\"\n",
    "if NotaDesempenho >= 90:\n",
    "  result = \"Excelente\"\n",
    "\n",
    "print(f\"O resultado da classificação do jogador é {result}\")"
   ]
  },
  {
   "cell_type": "markdown",
   "id": "6cafaa50",
   "metadata": {},
   "source": [
    "### Q4.\n",
    "\n",
    "Você está implementando um sistema de desconto em uma loja online. Escreva um programa em Python que calcula o desconto com base no valor total da compra e atribui diferentes níveis de desconto de acordo com as seguintes condições:\n",
    "\n",
    "- Se o valor total da compra for menor que R\\$ 50, não há desconto.\n",
    "- Se o valor total da compra for maior ou igual a R\\$ 50, atribua um desconto de 10%.\n",
    "- Se o valor total da compra for maior ou igual a R\\$ 100, atribua um desconto de 20%.\n",
    "\n",
    "\n",
    "Seguem alguns exemplos de interação com seu código no terminal. Preste atenção na formatação esperada para as saídas.\n",
    "\n",
    "```\n",
    "Digite o valor total da compra: 120\n",
    "Desconto aplicado: 20.0%\n",
    "Valor final com desconto: R$96.00\n",
    "```\n",
    "\n",
    "```\n",
    "Digite o valor total da compra: 65\n",
    "Desconto aplicado: 10.0%\n",
    "Valor final com desconto: R$58.50\n",
    "```\n",
    "\n",
    "```\n",
    "Digite o valor total da compra: 40\n",
    "Desconto aplicado: 0.0%\n",
    "Valor final com desconto: R$40.00\n",
    "```\n",
    "\n",
    "\n"
   ]
  },
  {
   "cell_type": "code",
   "execution_count": 5,
   "id": "3b1b1929",
   "metadata": {},
   "outputs": [
    {
     "name": "stdout",
     "output_type": "stream",
     "text": [
      "O valor da compra com desconto foi de R$80.00\n"
     ]
    }
   ],
   "source": [
    "def CalcularDesconto(ValorCompra):\n",
    "  if ValorCompra < 50:\n",
    "    Desconto = None\n",
    "  if ValorCompra >= 50:\n",
    "    Desconto = 0.1\n",
    "  if ValorCompra >= 100:\n",
    "    Desconto = 0.2\n",
    "\n",
    "  ValorTotal = ValorCompra - (ValorCompra * Desconto)\n",
    "  return ValorTotal\n",
    "\n",
    "ValorCompra = float(input(\"Insira o valor da Compra: \"))\n",
    "ValorComDesconto = CalcularDesconto(ValorCompra)\n",
    "print(f\"O valor da compra com desconto foi de R${ValorComDesconto:,.2f}\")"
   ]
  },
  {
   "cell_type": "markdown",
   "id": "dc5db6d7",
   "metadata": {},
   "source": [
    "### Q5.\n",
    "\n",
    "Você está projetando um sistema de autenticação baseado na análise da íris (parte colorida do olho). Ao acionado, o sistema coleta e retorna 3 valores inteiros referentes a atributos da íris visível. Mas o sistema não é perfeito, tendo uma margem de erro do sensor de +/- $5$. \n",
    "\n",
    "O código abaixo tem os atributos dos 4 usuários cadastrados no sistema. Você deve completar om código, pedindo ao usuário para inserir uma nova leitura de padrão de íris. O programa deve comparar o padrão inserido com os padrões cadastrados no banco de dados. Se o padrão estiver dentro da tolerância estabelecida, o usuário é autenticado com sucesso. Caso contrário, a autenticação falha.\n",
    "\n",
    "**Dica:** A função do python ```abs()``` retorna o valor absoluto de um elemento. Ex: \n",
    "```\n",
    ">>> print(abs(987-982))\n",
    "5\n",
    ">>> print(abs(987-992))\n",
    "5\n",
    "```\n",
    "\n",
    "Seguem alguns exemplos de interação com seu código no terminal.\n",
    "\n",
    "```\n",
    "Insira o padrão de íris para autenticação.\n",
    "Atributo 1: 111\n",
    "Atributo 2: 222\n",
    "Atributo 3: 333\n",
    "Autenticação bem-sucedida! \n",
    "Usuário: 3\n",
    "```\n",
    "\n",
    "```\n",
    "Insira o padrão de íris para autenticação.\n",
    "Atributo 1: 111\n",
    "Atributo 2: 200\n",
    "Atributo 3: 333\n",
    "Autenticação falhou! \n",
    "```\n",
    "\n",
    "```\n",
    "Insira o padrão de íris para autenticação.\n",
    "Atributo 1: 982\n",
    "Atributo 2: 653\n",
    "Atributo 3: 324\n",
    "Autenticação bem-sucedida! \n",
    "Usuário: 2\n",
    "```"
   ]
  },
  {
   "cell_type": "code",
   "execution_count": 9,
   "id": "b90304eb",
   "metadata": {},
   "outputs": [
    {
     "name": "stdout",
     "output_type": "stream",
     "text": [
      "Autenticação bem sucedida\n"
     ]
    }
   ],
   "source": [
    "## Não altere os atributos definidos a seguir\n",
    "iris1_a1, iris1_a2, iris1_a3 = 123, 456, 789\n",
    "iris2_a1, iris2_a2, iris2_a3 = 987, 654, 321\n",
    "iris3_a1, iris3_a2, iris3_a3 = 111, 222, 333\n",
    "iris4_a1, iris4_a2, iris4_a3 = 444, 555, 666\n",
    "\n",
    "## Escreva e execute seu código aqui\n",
    "\n",
    "margem = 5 \n",
    "\n",
    "NovaA1 = int(input(\"Insira novo parametro irís: \"))\n",
    "NovaA2 = int(input(\"Insira novo parametro irís: \"))\n",
    "NovaA3 = int(input(\"Insira novo parametro irís: \"))\n",
    "\n",
    "def Autenticar(a1, a2, a3, RefA1, RefA2, RefA3, margem):\n",
    "  return (abs(a1 - RefA1) <= margem and\n",
    "          abs(a2 - RefA2) <= margem and\n",
    "          abs(a3 - RefA3) <= margem)\n",
    "\n",
    "if (Autenticar(NovaA1, NovaA2, NovaA3, iris1_a1, iris1_a2, iris1_a3, margem) or\n",
    "    Autenticar(NovaA1, NovaA2, NovaA3, iris2_a1, iris2_a2, iris2_a3, margem) or\n",
    "    Autenticar(NovaA1, NovaA2, NovaA3, iris3_a1, iris3_a2, iris3_a3, margem) or\n",
    "    Autenticar(NovaA1, NovaA2, NovaA3, iris4_a1, iris4_a2, iris4_a3, margem)  \n",
    "  ):\n",
    "  print(\"Autenticação bem sucedida\")\n",
    "else:\n",
    "  print(\"Autenticação Falhou\")"
   ]
  }
 ],
 "metadata": {
  "kernelspec": {
   "display_name": "Python 3",
   "language": "python",
   "name": "python3"
  },
  "language_info": {
   "codemirror_mode": {
    "name": "ipython",
    "version": 3
   },
   "file_extension": ".py",
   "mimetype": "text/x-python",
   "name": "python",
   "nbconvert_exporter": "python",
   "pygments_lexer": "ipython3",
   "version": "3.12.2"
  }
 },
 "nbformat": 4,
 "nbformat_minor": 5
}
