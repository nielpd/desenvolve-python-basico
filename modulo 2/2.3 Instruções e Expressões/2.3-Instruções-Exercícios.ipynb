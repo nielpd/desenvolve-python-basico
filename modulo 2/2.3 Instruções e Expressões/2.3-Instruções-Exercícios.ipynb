{
  "cells": [
    {
      "cell_type": "markdown",
      "metadata": {
        "id": "1pCTdOHonv5f"
      },
      "source": [
        "# Módulo 2\n",
        "\n",
        "## 2.3 Instruções e Expressões\n",
        "\n",
        "### Q1\n",
        "\n",
        "Faça um programa que armazene o valor de 20 reais de salário por hora de um trabalhador, e o número de 40 horas trabalhadas na semana. Com essas informações, calcule e imprima:\n",
        "- Salário semanal bruto\n",
        "- Valor descontado por semana INSS (10% do bruto)\n",
        "- Valor descontado por semana pelo sindicato (5% do bruto)\n",
        "- Salário semanal líquido (Bruto - Descontos)"
      ]
    },
    {
      "cell_type": "code",
      "execution_count": 7,
      "metadata": {
        "id": "hVbX0I97nj6M"
      },
      "outputs": [
        {
          "name": "stdout",
          "output_type": "stream",
          "text": [
            "Seu salário semanal bruto é: 800\n",
            "O valor descontado pelo INSS será:  80.0\n",
            "O valor descontado pelo Sindicato é:  40.0\n",
            "O seu Sálario liquido é:  680.0\n"
          ]
        }
      ],
      "source": [
        "## Escreva e execute seu código aqui\n",
        "HorasTrabalhadasPorSemana = 40\n",
        "SalarioPorHora = 20\n",
        "DescontoInss = 0.10\n",
        "DescontoSindicato = 0.05\n",
        "SalarioLiquido = (HorasTrabalhadasPorSemana * SalarioPorHora) - (HorasTrabalhadasPorSemana * SalarioPorHora * DescontoInss) - (HorasTrabalhadasPorSemana * SalarioPorHora * DescontoSindicato)\n",
        "print(\"Seu salário semanal bruto é:\", HorasTrabalhadasPorSemana * SalarioPorHora)\n",
        "print(\"O valor descontado pelo INSS será: \", HorasTrabalhadasPorSemana * SalarioPorHora * DescontoInss)\n",
        "print(\"O valor descontado pelo Sindicato é: \", HorasTrabalhadasPorSemana * SalarioPorHora * DescontoSindicato)\n",
        "print(\"O seu Sálario liquido é: \", SalarioLiquido)\n"
      ]
    },
    {
      "cell_type": "markdown",
      "metadata": {
        "id": "pIxKX9J2oGZ1"
      },
      "source": [
        "### Q2\n",
        "\n",
        "Altere o programa anterior para a partir dos valores de horas trabalhadas por semana e salário por hora, calcular **em somente duas instruções**:\n",
        "- Salário semanal bruto\n",
        "- Salário semanal líquido com todos os descontos. Para a segunda instrução, realize todos os cálculos aritméticos em uma expressão composta.\n"
      ]
    },
    {
      "cell_type": "code",
      "execution_count": 8,
      "metadata": {
        "id": "pAHw9Xf9oGoi"
      },
      "outputs": [
        {
          "name": "stdout",
          "output_type": "stream",
          "text": [
            "O seu salário bruto é:  800\n",
            "O seu salário liquido é:  680.0\n"
          ]
        }
      ],
      "source": [
        "## Escreva e execute seu código aqui\n",
        "HorasTrabalhadasPorSemana = 40\n",
        "SalarioPorHora = 20\n",
        "\n",
        "SalarioBruto = HorasTrabalhadasPorSemana * SalarioPorHora\n",
        "SalarioLiquido = SalarioBruto - 0.1 * SalarioBruto - 0.05 * SalarioBruto\n",
        "\n",
        "print(\"O seu salário bruto é: \", SalarioBruto)\n",
        "print(\"O seu salário liquido é: \", SalarioLiquido)"
      ]
    },
    {
      "cell_type": "markdown",
      "metadata": {
        "id": "m8tlHRuWpBOB"
      },
      "source": [
        "### Q3\n",
        "\n",
        "Você está desenvolvendo um software de conversão de moeda e precisa calcular o valor equivalente em yuan chinês a partir de uma quantia em real. A taxa de câmbio é de 0.69 BRL (real) para 1 CNY (yuan). Escreva um programa que define em uma variável uma quantia em reais (BRL) e calcula o valor equivalente em yuan (CNY). Imprima o resultado."
      ]
    },
    {
      "cell_type": "code",
      "execution_count": 13,
      "metadata": {
        "id": "2bPw7uF6oeL9"
      },
      "outputs": [
        {
          "name": "stdout",
          "output_type": "stream",
          "text": [
            "O valor de R$1000 em Yuan Chinês é: CN¥1449.28\n"
          ]
        }
      ],
      "source": [
        "## Escreva e execute seu código aqui\n",
        "TaxaCambio = 0.69\n",
        "QuantiaBRL = 1000\n",
        "QuantiaCNY = QuantiaBRL / TaxaCambio\n",
        "\n",
        "print(f\"O valor de R${QuantiaBRL} em Yuan Chinês é: CN¥{QuantiaCNY:.2f}\")"
      ]
    },
    {
      "cell_type": "markdown",
      "metadata": {
        "id": "-Na3ltDCp74A"
      },
      "source": [
        "### Q4\n",
        "\n",
        "Você é um treinador de corrida e deseja calcular a velocidade média que um atleta precisa manter para completar a Maratona Internacional de São Silvestre, que tem uma distância total de 42.195 km. A fórmula para calcular a velocidade média ($v\\_media$) é dada por $v\\_media = \\frac{distancia}{tempo}$ . Escreva um programa em Python para calcular a velocidade média necessária para completar a maratona em 3 horas.\n",
        "\n",
        "**Calcule e imprima o resultado em metros/segundo**, ou seja, converta a distância de quilômetros para metros ($metro = \\frac{km}{1000}$) e a velocidade de horas para segundos $(segundo = \\frac{hora}{3600})$."
      ]
    },
    {
      "cell_type": "code",
      "execution_count": 21,
      "metadata": {
        "id": "Bn6l8kcSrE4L"
      },
      "outputs": [
        {
          "name": "stdout",
          "output_type": "stream",
          "text": [
            "A velocidade média foi de: 3.0 m/s\n"
          ]
        }
      ],
      "source": [
        "## Escreva e execute seu código aqui\n",
        "DistanciaTotal = 42.195\n",
        "TempoHoras = 3\n",
        "\n",
        "DistanciaMetros = DistanciaTotal * 1000\n",
        "TempoSegundos = TempoHoras * 3600\n",
        "VelocidadeMedia = DistanciaMetros // TempoSegundos\n",
        "\n",
        "print(f\"A velocidade média foi de: {VelocidadeMedia} m/s\")"
      ]
    }
  ],
  "metadata": {
    "colab": {
      "provenance": []
    },
    "kernelspec": {
      "display_name": "Python 3",
      "name": "python3"
    },
    "language_info": {
      "codemirror_mode": {
        "name": "ipython",
        "version": 3
      },
      "file_extension": ".py",
      "mimetype": "text/x-python",
      "name": "python",
      "nbconvert_exporter": "python",
      "pygments_lexer": "ipython3",
      "version": "3.12.2"
    }
  },
  "nbformat": 4,
  "nbformat_minor": 0
}
